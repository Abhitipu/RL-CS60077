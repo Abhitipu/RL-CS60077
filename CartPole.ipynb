{
 "cells": [
  {
   "cell_type": "markdown",
   "id": "011f37c4-77f2-41a2-a1c8-a83fca3fbc0c",
   "metadata": {},
   "source": [
    "## Q learning with the CartPole-v1 using Monte Carlo"
   ]
  },
  {
   "cell_type": "markdown",
   "id": "a06d7c09",
   "metadata": {},
   "source": [
    "For a detailed description of the cartpole env, refer to [this](https://www.gymlibrary.dev/environments/classic_control/cart_pole/) site"
   ]
  },
  {
   "cell_type": "code",
   "execution_count": 2,
   "id": "717983ec-9919-47e4-af5b-dc3a0af603a9",
   "metadata": {},
   "outputs": [],
   "source": [
    "import numpy as np \n",
    "import gym"
   ]
  },
  {
   "cell_type": "markdown",
   "id": "3833be8a-e61d-4d88-b11c-a0445c743e9a",
   "metadata": {},
   "source": [
    "### Configuring the display using matplotlib"
   ]
  },
  {
   "cell_type": "code",
   "execution_count": 3,
   "id": "01b99802-d19f-4637-8c63-24104cc632c2",
   "metadata": {},
   "outputs": [],
   "source": [
    "from IPython import display\n",
    "import matplotlib\n",
    "import matplotlib.pyplot as plt\n",
    "%matplotlib inline"
   ]
  },
  {
   "cell_type": "markdown",
   "id": "e25c9de8",
   "metadata": {},
   "source": [
    "### Description\n",
    "\n",
    "#### Action space\n",
    "\n",
    "The action is an `ndarray` with shape `(1,)` which can take values {0, 1} indicating the direction of the fixed force the cart is pushed with.\n",
    "\n",
    "#### State Space\n",
    "\n",
    "The observation is an `ndarray` with shape `(4,)` with the values corresponding to the following positions and velocities:\n",
    "\n",
    "| Num |      Observation      |         Min         |        Max        |   |\n",
    "|:---:|:---------------------:|:-------------------:|:-----------------:|---|\n",
    "| 0   | Cart Position         | -4.8                | 4.8               |   |\n",
    "| 1   | Cart Velocity         | -Inf                | Inf               |   |\n",
    "| 2   | Pole Angle            | ~ -0.418 rad (-24°) | ~ 0.418 rad (24°) |   |\n",
    "| 3   | Pole Angular Velocity | -Inf                | Inf               |   |\n",
    "\n",
    "#### Rewards\n",
    "\n",
    "Since the goal is to keep the pole upright for as long as possible, a reward of `+1` for every step taken, including the termination step, is allotted. The threshold for rewards is `475` for v1.\n",
    "\n",
    "#### Starting State\n",
    "\n",
    "All observations are assigned a uniformly random value in (-0.05, 0.05)\n",
    "\n",
    "#### Episode\n",
    "\n",
    "The episode ends if any one of the following occurs:\n",
    "\n",
    "- `Termination`: Pole Angle is greater than ±12°</li>\n",
    "- `Termination`: Cart Position is greater than ±2.4 (center of the cart reaches the edge of the display)</li>\n",
    "- `Truncation`: Episode length is greater than 500 (200 for v0)</li>\n"
   ]
  },
  {
   "cell_type": "markdown",
   "id": "9459aeb6",
   "metadata": {},
   "source": [
    "### Discretizer"
   ]
  },
  {
   "cell_type": "code",
   "execution_count": 8,
   "id": "833cbce0",
   "metadata": {},
   "outputs": [],
   "source": [
    "from sklearn.preprocessing import KBinsDiscretizer\n",
    "import math\n",
    "from typing import Tuple"
   ]
  },
  {
   "cell_type": "code",
   "execution_count": 9,
   "id": "00a044e8",
   "metadata": {},
   "outputs": [],
   "source": [
    "n_bins = ( 6 , 12 )\n",
    "lower_bounds = [ env.observation_space.low[2], -math.radians(50) ]\n",
    "upper_bounds = [ env.observation_space.high[2], math.radians(50) ]\n",
    "\n",
    "def discretizer( _ , __ , angle, pole_velocity ) -> Tuple[int,...]:\n",
    "    \"\"\"Convert continues state intro a discrete state\"\"\"\n",
    "    est = KBinsDiscretizer(n_bins=n_bins, encode='ordinal', strategy='uniform')\n",
    "    est.fit([lower_bounds, upper_bounds ])\n",
    "    return tuple(map(int,est.transform([[angle, pole_velocity]])[0]))"
   ]
  },
  {
   "cell_type": "markdown",
   "id": "77431b36",
   "metadata": {},
   "source": [
    "#### Define the policy\n",
    "<!-- $\\epsilon$ / $|A|$ + 1 - $\\epsilon$ --- $max_{a}Q(s, a)$ -->"
   ]
  },
  {
   "cell_type": "code",
   "execution_count": 11,
   "id": "f59a582c",
   "metadata": {},
   "outputs": [],
   "source": [
    "def policy( state : tuple , eps = 0.1):\n",
    "    \"\"\"\n",
    "    Epsilon greedy policy\n",
    "    Choose the next action as follows\n",
    "    eps / |A| + (1 - eps) --> greedy best\n",
    "    eps / |A|             --> others\n",
    "    \"\"\"\n",
    "    return np.argmax(Q_table[state]) if np.random.random() <= 1 - eps else np.random.randint(len(Q_table[state]))"
   ]
  },
  {
   "cell_type": "markdown",
   "id": "f7693c78",
   "metadata": {},
   "source": [
    "#### Update q-table"
   ]
  },
  {
   "cell_type": "code",
   "execution_count": 12,
   "id": "5fdc715e",
   "metadata": {},
   "outputs": [],
   "source": [
    "def new_Q_value( reward : float ,  new_state : tuple , discount_factor=1 ) -> float:\n",
    "    \"\"\"Here we simply do a max on the best action possible from the next state\"\"\"\n",
    "    future_optimal_value = np.max(Q_table[new_state])\n",
    "    learned_value = reward + discount_factor * future_optimal_value\n",
    "    return learned_value"
   ]
  },
  {
   "cell_type": "markdown",
   "id": "a6fda0cc",
   "metadata": {},
   "source": [
    "#### Learning rate"
   ]
  },
  {
   "cell_type": "code",
   "execution_count": 13,
   "id": "8f92fc75",
   "metadata": {},
   "outputs": [],
   "source": [
    "def learning_rate(n : int) -> float  :\n",
    "    \"\"\"Decaying learning rate\"\"\"\n",
    "    return 1 / n"
   ]
  },
  {
   "cell_type": "markdown",
   "id": "26552054-8d8c-4a21-8620-b7627cf862d8",
   "metadata": {},
   "source": [
    "### The runner"
   ]
  },
  {
   "cell_type": "code",
   "execution_count": 14,
   "id": "f61a5f87",
   "metadata": {},
   "outputs": [],
   "source": [
    "env_rgb = lambda rendered_list: np.array(rendered_list).squeeze()"
   ]
  },
  {
   "cell_type": "code",
   "execution_count": 22,
   "id": "8b21350d",
   "metadata": {},
   "outputs": [],
   "source": [
    "n_episodes = 5\n",
    "\n",
    "def Q_learning(environment, discretizer, Q_table, n_episodes = 5):\n",
    "    for e in range(n_episodes):\n",
    "\n",
    "        # Discretize state into buckets\n",
    "        current_state = discretizer(*environment.reset())\n",
    "        img = plt.imshow(env_rgb(environment.render()))\n",
    "\n",
    "        iters = 1\n",
    "        done = False\n",
    "\n",
    "        while not done:\n",
    "            # Choose the current action using eps greedy policy\n",
    "            action = policy(current_state) # exploit\n",
    "\n",
    "            # Take a step in the enviroment\n",
    "            obs, reward, done, _, _ = environment.step(action)\n",
    "            new_state = discretizer(*obs)\n",
    "\n",
    "            # Update the display\n",
    "            plt.title(f\"Episode no: {e+1} Iteration no: {iters}\")       \n",
    "            img.set_data(env_rgb(environment.render()))\n",
    "            display.display(plt.gcf())\n",
    "            display.clear_output(wait=True) \n",
    "\n",
    "            # Update the q-table\n",
    "            lr = learning_rate(e + 1)\n",
    "            learnt_value = new_Q_value(reward , new_state)\n",
    "            old_value = Q_table[current_state][action]\n",
    "            Q_table[current_state][action] = (1-lr)*old_value + lr*learnt_value\n",
    "\n",
    "            # Iterative updates\n",
    "            current_state = new_state\n",
    "            iters += 1\n",
    "    return Q_table"
   ]
  },
  {
   "cell_type": "markdown",
   "id": "2895465a-4587-4813-9eb2-649d60f3ad92",
   "metadata": {},
   "source": [
    "### Testing"
   ]
  },
  {
   "cell_type": "code",
   "execution_count": 31,
   "id": "4473464c-d733-4ed6-8552-52cb4b96031b",
   "metadata": {},
   "outputs": [],
   "source": [
    "def play_episodes(environment, n_episodes, Q_res):\n",
    "    wins = 0\n",
    "    total_reward = 0\n",
    "    for episode in range(n_episodes):\n",
    "        terminated = False\n",
    "        state = environment.reset()\n",
    "        state = discretizer(*state)\n",
    "        while not terminated:\n",
    "            # Select best action to perform in a current state\n",
    "            action = np.argmax(Q_res[state])\n",
    "            # Perform an action an observe how environment acted in response\n",
    "            next_state, reward, terminated, info, _ = environment.step(action)\n",
    "            # Summarize total reward\n",
    "            total_reward += reward\n",
    "            # Update current state\n",
    "            next_state = discretizer(*next_state)\n",
    "            state = next_state\n",
    "\n",
    "    average_reward = total_reward / n_episodes\n",
    "    return total_reward, average_reward"
   ]
  },
  {
   "cell_type": "code",
   "execution_count": 32,
   "id": "9dc412a1-ea34-47c8-972b-42affb47c4ca",
   "metadata": {},
   "outputs": [],
   "source": [
    "environment = gym.make('CartPole-v1', render_mode=\"rgb_array\", new_step_api=True)"
   ]
  },
  {
   "cell_type": "code",
   "execution_count": 33,
   "id": "0dc4e899",
   "metadata": {},
   "outputs": [
    {
     "data": {
      "image/png": "[encoded data removed]",
      "text/plain": [
       "<Figure size 432x288 with 1 Axes>"
      ]
     },
     "metadata": {
      "needs_background": "light"
     },
     "output_type": "display_data"
    }
   ],
   "source": [
    "Q_table = np.zeros((*n_bins, env.action_space.n))\n",
    "N_EPISODES = 5\n",
    "Q_result = Q_learning(environment, discretizer, Q_table, N_EPISODES)"
   ]
  },
  {
   "cell_type": "code",
   "execution_count": 34,
   "id": "ca3297ea-6d5d-43f7-9127-4dbb202563ab",
   "metadata": {},
   "outputs": [
    {
     "name": "stdout",
     "output_type": "stream",
     "text": [
      "Average reward over 5 episodes = 10.2 \n",
      "\n",
      "\n"
     ]
    }
   ],
   "source": [
    "total_reward, average_reward = play_episodes(environment, n_episodes, Q_result)\n",
    "print(f'Average reward over {n_episodes} episodes = {average_reward} \\n\\n')"
   ]
  }
 ],
 "metadata": {
  "kernelspec": {
   "display_name": "Python 3 (ipykernel)",
   "language": "python",
   "name": "python3"
  },
  "language_info": {
   "codemirror_mode": {
    "name": "ipython",
    "version": 3
   },
   "file_extension": ".py",
   "mimetype": "text/x-python",
   "name": "python",
   "nbconvert_exporter": "python",
   "pygments_lexer": "ipython3",
   "version": "3.9.7"
  }
 },
 "nbformat": 4,
 "nbformat_minor": 5
}
