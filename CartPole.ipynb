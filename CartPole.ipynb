{
 "cells": [
  {
   "cell_type": "markdown",
   "id": "011f37c4-77f2-41a2-a1c8-a83fca3fbc0c",
   "metadata": {},
   "source": [
    "## Q learning with the CartPole-v1 using Monte Carlo"
   ]
  },
  {
   "cell_type": "markdown",
   "id": "a06d7c09",
   "metadata": {},
   "source": [
    "For a detailed description of the cartpole env, refer to [this](https://www.gymlibrary.dev/environments/classic_control/cart_pole/) site"
   ]
  },
  {
   "cell_type": "code",
   "execution_count": 15,
   "id": "717983ec-9919-47e4-af5b-dc3a0af603a9",
   "metadata": {},
   "outputs": [],
   "source": [
    "import numpy as np \n",
    "import gym"
   ]
  },
  {
   "cell_type": "markdown",
   "id": "3833be8a-e61d-4d88-b11c-a0445c743e9a",
   "metadata": {},
   "source": [
    "### Configuring the display using matplotlib"
   ]
  },
  {
   "cell_type": "code",
   "execution_count": 16,
   "id": "01b99802-d19f-4637-8c63-24104cc632c2",
   "metadata": {},
   "outputs": [],
   "source": [
    "from IPython import display\n",
    "import matplotlib\n",
    "import matplotlib.pyplot as plt\n",
    "%matplotlib inline"
   ]
  },
  {
   "cell_type": "markdown",
   "id": "e25c9de8",
   "metadata": {},
   "source": [
    "### Description\n",
    "\n",
    "#### Action space\n",
    "\n",
    "The action is an `ndarray` with shape `(1,)` which can take values {0, 1} indicating the direction of the fixed force the cart is pushed with.\n",
    "\n",
    "#### State Space\n",
    "\n",
    "The observation is an `ndarray` with shape `(4,)` with the values corresponding to the following positions and velocities:\n",
    "\n",
    "| Num |      Observation      |         Min         |        Max        |   |\n",
    "|:---:|:---------------------:|:-------------------:|:-----------------:|---|\n",
    "| 0   | Cart Position         | -4.8                | 4.8               |   |\n",
    "| 1   | Cart Velocity         | -Inf                | Inf               |   |\n",
    "| 2   | Pole Angle            | ~ -0.418 rad (-24°) | ~ 0.418 rad (24°) |   |\n",
    "| 3   | Pole Angular Velocity | -Inf                | Inf               |   |\n",
    "\n",
    "#### Rewards\n",
    "\n",
    "Since the goal is to keep the pole upright for as long as possible, a reward of `+1` for every step taken, including the termination step, is allotted. The threshold for rewards is `475` for v1.\n",
    "\n",
    "#### Starting State\n",
    "\n",
    "All observations are assigned a uniformly random value in (-0.05, 0.05)\n",
    "\n",
    "#### Episode\n",
    "\n",
    "The episode ends if any one of the following occurs:\n",
    "\n",
    "- `Termination`: Pole Angle is greater than ±12°</li>\n",
    "- `Termination`: Cart Position is greater than ±2.4 (center of the cart reaches the edge of the display)</li>\n",
    "- `Truncation`: Episode length is greater than 500 (200 for v0)</li>\n"
   ]
  },
  {
   "cell_type": "markdown",
   "id": "7508a626-bf46-4c44-bb4b-ff9f113cf782",
   "metadata": {},
   "source": [
    "### The policy functions"
   ]
  },
  {
   "cell_type": "markdown",
   "id": "bde59328-ce57-479a-88a9-d7a6cfcc7e3d",
   "metadata": {},
   "source": [
    "#### a. Fixed "
   ]
  },
  {
   "cell_type": "code",
   "execution_count": 99,
   "id": "4cedd097-1e80-4d70-9576-3bd985accb44",
   "metadata": {},
   "outputs": [],
   "source": [
    "policy_fixed = lambda pos, vel, angle, omega, _: 1"
   ]
  },
  {
   "cell_type": "markdown",
   "id": "40a4dcfe-ad77-4dd1-b489-cf9fd672b70f",
   "metadata": {},
   "source": [
    "#### b. Random"
   ]
  },
  {
   "cell_type": "code",
   "execution_count": 100,
   "id": "5f9bc35a-9a85-4789-a7b6-f6d6c794808b",
   "metadata": {},
   "outputs": [],
   "source": [
    "policy_random = lambda pos, vel, angle, omega, _: np.random.randint(2)"
   ]
  },
  {
   "cell_type": "markdown",
   "id": "414bba48-6ea2-42a5-8a25-da1d349e536a",
   "metadata": {},
   "source": [
    "#### c. Based on angular velocity"
   ]
  },
  {
   "cell_type": "code",
   "execution_count": 101,
   "id": "a1ec288c-610a-44c1-ab5b-985cf1d15b50",
   "metadata": {},
   "outputs": [],
   "source": [
    "policy_angular_vel = lambda pos, vel, angle, omega, _: int(omega > 0)"
   ]
  },
  {
   "cell_type": "markdown",
   "id": "b89256c0",
   "metadata": {},
   "source": [
    "### Experimenting"
   ]
  },
  {
   "cell_type": "code",
   "execution_count": 135,
   "id": "5b75df7a",
   "metadata": {},
   "outputs": [],
   "source": [
    "env = gym.make(\"CartPole-v1\", render_mode=\"rgb_array\", new_step_api=True)"
   ]
  },
  {
   "cell_type": "markdown",
   "id": "9459aeb6",
   "metadata": {},
   "source": [
    "### Discretizer"
   ]
  },
  {
   "cell_type": "code",
   "execution_count": 104,
   "id": "833cbce0",
   "metadata": {},
   "outputs": [],
   "source": [
    "from sklearn.preprocessing import KBinsDiscretizer\n",
    "import math\n",
    "from typing import Tuple"
   ]
  },
  {
   "cell_type": "code",
   "execution_count": 105,
   "id": "00a044e8",
   "metadata": {},
   "outputs": [],
   "source": [
    "n_bins = ( 6 , 12 )\n",
    "lower_bounds = [ env.observation_space.low[2], -math.radians(50) ]\n",
    "upper_bounds = [ env.observation_space.high[2], math.radians(50) ]\n",
    "\n",
    "def discretizer( _ , __ , angle, pole_velocity ) -> Tuple[int,...]:\n",
    "    \"\"\"Convert continues state intro a discrete state\"\"\"\n",
    "    est = KBinsDiscretizer(n_bins=n_bins, encode='ordinal', strategy='uniform')\n",
    "    est.fit([lower_bounds, upper_bounds ])\n",
    "    return tuple(map(int,est.transform([[angle, pole_velocity]])[0]))"
   ]
  },
  {
   "cell_type": "code",
   "execution_count": 106,
   "id": "0dc4e899",
   "metadata": {},
   "outputs": [
    {
     "data": {
      "text/plain": [
       "(6, 12, 2)"
      ]
     },
     "execution_count": 106,
     "metadata": {},
     "output_type": "execute_result"
    }
   ],
   "source": [
    "Q_table = np.zeros(n_bins + (env.action_space.n,))\n",
    "Q_table.shape"
   ]
  },
  {
   "cell_type": "markdown",
   "id": "77431b36",
   "metadata": {},
   "source": [
    "#### Define the policy"
   ]
  },
  {
   "cell_type": "code",
   "execution_count": 128,
   "id": "f59a582c",
   "metadata": {},
   "outputs": [],
   "source": [
    "def policy( state : tuple ):\n",
    "    \"\"\"Choose the best next action greedily\"\"\"\n",
    "    return np.argmax(Q_table[state])"
   ]
  },
  {
   "cell_type": "markdown",
   "id": "f7693c78",
   "metadata": {},
   "source": [
    "#### Update q-table"
   ]
  },
  {
   "cell_type": "code",
   "execution_count": 109,
   "id": "5fdc715e",
   "metadata": {},
   "outputs": [],
   "source": [
    "def new_Q_value( reward : float ,  new_state : tuple , discount_factor=1 ) -> float:\n",
    "    \"\"\"Temporal difference for updating Q-value of state-action pair\"\"\"\n",
    "    future_optimal_value = np.max(Q_table[new_state])\n",
    "    learned_value = reward + discount_factor * future_optimal_value\n",
    "    return learned_value"
   ]
  },
  {
   "cell_type": "markdown",
   "id": "a6fda0cc",
   "metadata": {},
   "source": [
    "#### Learning rate"
   ]
  },
  {
   "cell_type": "code",
   "execution_count": 127,
   "id": "8f92fc75",
   "metadata": {},
   "outputs": [],
   "source": [
    "def learning_rate(n : int) -> float  :\n",
    "    \"\"\"Decaying learning rate\"\"\"\n",
    "    return 1 / n"
   ]
  },
  {
   "cell_type": "markdown",
   "id": "7bc28a45",
   "metadata": {},
   "source": [
    "#### Exploration"
   ]
  },
  {
   "cell_type": "code",
   "execution_count": 111,
   "id": "a7ef2a02",
   "metadata": {},
   "outputs": [],
   "source": [
    "def exploration_rate(n : int) -> float :\n",
    "    \"\"\"Decaying exploration rate\"\"\"\n",
    "    return 1 / n"
   ]
  },
  {
   "cell_type": "markdown",
   "id": "26552054-8d8c-4a21-8620-b7627cf862d8",
   "metadata": {},
   "source": [
    "### The runner"
   ]
  },
  {
   "cell_type": "code",
   "execution_count": 122,
   "id": "f61a5f87",
   "metadata": {},
   "outputs": [],
   "source": [
    "env_rgb = lambda rendered_list: np.array(rendered_list).squeeze()"
   ]
  },
  {
   "cell_type": "code",
   "execution_count": 130,
   "id": "8b21350d",
   "metadata": {},
   "outputs": [
    {
     "data": {
      "image/png": "[encoded data removed]",
      "text/plain": [
       "<Figure size 432x288 with 1 Axes>"
      ]
     },
     "metadata": {
      "needs_background": "light"
     },
     "output_type": "display_data"
    }
   ],
   "source": [
    "n_episodes = 5\n",
    "\n",
    "for e in range(n_episodes):\n",
    "    \n",
    "    # Discretize state into buckets\n",
    "    current_state = discretizer(*env.reset())\n",
    "    img = plt.imshow(env_rgb(env.render()))\n",
    "    \n",
    "    iters = 1\n",
    "    done = False\n",
    "    \n",
    "    while not done:\n",
    "        # greedy action \n",
    "        action = policy(current_state) # exploit\n",
    "        \n",
    "        # random action\n",
    "        if np.random.random() < exploration_rate(e) : \n",
    "            action = env.action_space.sample() # explore \n",
    "         \n",
    "        # Take a step in the enviroment\n",
    "        obs, reward, done, _, _ = env.step(action)\n",
    "        new_state = discretizer(*obs)\n",
    "        \n",
    "        # Update the display\n",
    "        plt.title(f\"Episode no: {e+1} Iteration no: {iters}\")       \n",
    "        img.set_data(env_rgb(env.render()))\n",
    "        display.display(plt.gcf())\n",
    "        display.clear_output(wait=True) \n",
    "        \n",
    "        # Update the q-table\n",
    "        lr = learning_rate(e + 1)\n",
    "        learnt_value = new_Q_value(reward , new_state)\n",
    "        old_value = Q_table[current_state][action]\n",
    "        Q_table[current_state][action] = (1-lr)*old_value + lr*learnt_value\n",
    "        \n",
    "        # Iterative updates\n",
    "        current_state = new_state\n",
    "        iters += 1"
   ]
  }
 ],
 "metadata": {
  "kernelspec": {
   "display_name": "Python 3 (ipykernel)",
   "language": "python",
   "name": "python3"
  },
  "language_info": {
   "codemirror_mode": {
    "name": "ipython",
    "version": 3
   },
   "file_extension": ".py",
   "mimetype": "text/x-python",
   "name": "python",
   "nbconvert_exporter": "python",
   "pygments_lexer": "ipython3",
   "version": "3.9.7"
  }
 },
 "nbformat": 4,
 "nbformat_minor": 5
}
