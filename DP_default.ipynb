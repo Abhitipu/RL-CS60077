{
  "nbformat": 4,
  "nbformat_minor": 0,
  "metadata": {
    "colab": {
      "provenance": [],
      "collapsed_sections": []
    },
    "kernelspec": {
      "name": "python3",
      "display_name": "Python 3"
    },
    "language_info": {
      "name": "python"
    },
    "gpuClass": "standard"
  },
  "cells": [
    {
      "cell_type": "code",
      "source": [
        "import gym\n",
        "import numpy as np"
      ],
      "metadata": {
        "id": "sNBvnJ2Cp4FU"
      },
      "execution_count": null,
      "outputs": []
    },
    {
      "cell_type": "code",
      "source": [
        "def policy_evaluation(policy, environment, discount_factor=1.0, theta=1e-9, max_iterations=1e9):\n",
        "        # Number of evaluation iterations\n",
        "        evaluation_iterations = 1\n",
        "        # Initialize a value function for each state as zero\n",
        "        V = np.zeros(environment.observation_space.shape[0])\n",
        "        # Repeat until change in value is below the threshold\n",
        "        for i in range(int(max_iterations)):\n",
        "                # Initialize a change of value function as zero\n",
        "                delta = 0\n",
        "                # Iterate though each state\n",
        "                for state in range(environment.observation_space.shape[0]):\n",
        "                       # Initial a new value of current state\n",
        "                       v = 0\n",
        "                       # Try all possible actions which can be taken from this state\n",
        "                       for action, action_probability in enumerate(policy[state]):\n",
        "                             # Check how good next state will be\n",
        "                             for state_probability, next_state, reward, terminated in environment.step(action):\n",
        "                                  # Calculate the expected value\n",
        "                                  print(environment.step(action))\n",
        "                                  print(f\"sp={state_probability} ns={next_state}, r={reward}, t={terminated}\")\n",
        "                                  v += action_probability * state_probability * (reward + discount_factor * V[next_state])\n",
        "                       \n",
        "                       # Calculate the absolute change of value function\n",
        "                       delta = max(delta, np.abs(V[state] - v))\n",
        "                       # Update value function\n",
        "                       V[state] = v\n",
        "                evaluation_iterations += 1\n",
        "                \n",
        "                # Terminate if value change is insignificant\n",
        "                if delta < theta:\n",
        "                        print(f'Policy evaluated in {evaluation_iterations} iterations.')\n",
        "                        return V"
      ],
      "metadata": {
        "id": "PM6CIZlUqOMr"
      },
      "execution_count": null,
      "outputs": []
    },
    {
      "cell_type": "code",
      "source": [
        "def one_step_lookahead(environment, state, V, discount_factor):\n",
        "        action_values = np.zeros(environment.action_space.n)\n",
        "        for action in range(environment.action_space.n):\n",
        "                for probability, next_state, reward, terminated in environment.P[state][action]:\n",
        "                        action_values[action] += probability * (reward + discount_factor * V[next_state])\n",
        "        return action_values"
      ],
      "metadata": {
        "id": "ip0HC3sauFB-"
      },
      "execution_count": null,
      "outputs": []
    },
    {
      "cell_type": "code",
      "source": [
        "def policy_iteration(environment, discount_factor=1.0, max_iterations=1e9):\n",
        "        # Start with a random policy\n",
        "        #num states x num actions / num actions\n",
        "        policy = np.ones([environment.observation_space.shape[0], environment.action_space.n]) / environment.action_space.n\n",
        "        # Initialize counter of evaluated policies\n",
        "        evaluated_policies = 1\n",
        "        # Repeat until convergence or critical number of iterations reached\n",
        "        for i in range(int(max_iterations)):\n",
        "                stable_policy = True\n",
        "                # Evaluate current policy\n",
        "                V = policy_evaluation(policy, environment, discount_factor=discount_factor)\n",
        "                # Go through each state and try to improve actions that were taken (policy Improvement)\n",
        "                for state in range(environment.observation_space.shape[0]):\n",
        "                        # Choose the best action in a current state under current policy\n",
        "                        current_action = np.argmax(policy[state])\n",
        "                        # Look one step ahead and evaluate if current action is optimal\n",
        "                        # We will try every possible action in a current state\n",
        "                        action_value = one_step_lookahead(environment, state, V, discount_factor)\n",
        "                        # Select a better action\n",
        "                        best_action = np.argmax(action_value)\n",
        "                        # If action didn't change\n",
        "                        if current_action != best_action:\n",
        "                                stable_policy = True\n",
        "                                # Greedy policy update\n",
        "                                policy[state] = np.eye(environment.action_space.n)[best_action]\n",
        "                evaluated_policies += 1\n",
        "                # If the algorithm converged and policy is not changing anymore, then return final policy and value function\n",
        "                if stable_policy:\n",
        "                        print(f'Evaluated {evaluated_policies} policies.')\n",
        "                        return policy, V"
      ],
      "metadata": {
        "id": "8KbTzPzhuHug"
      },
      "execution_count": null,
      "outputs": []
    },
    {
      "cell_type": "code",
      "source": [
        "def value_iteration(environment, discount_factor=1.0, theta=1e-9, max_iterations=1e9):\n",
        "        # Initialize state-value function with zeros for each environment state\n",
        "        V = np.zeros(environment.observation_space.shape[0])\n",
        "        for i in range(int(max_iterationsations)):\n",
        "                # Early stopping condition\n",
        "                delta = 0\n",
        "                # Update each state\n",
        "                for state in range(environment.observation_space.shape[0]):\n",
        "                        # Do a one-step lookahead to calculate state-action values\n",
        "                        action_value = one_step_lookahead(environment, state, V, discount_factor)\n",
        "                        # Select best action to perform based on the highest state-action value\n",
        "                        best_action_value = np.max(action_value)\n",
        "                        # Calculate change in value\n",
        "                        delta = max(delta, np.abs(V[state] - best_action_value))\n",
        "                        # Update the value function for current state\n",
        "                        V[state] = best_action_value\n",
        "                        # Check if we can stop\n",
        "                if delta < theta:\n",
        "                        print(f'Value-iteration converged at iteration#{i}.')\n",
        "                        break\n",
        "\n",
        "        # Create a deterministic policy using the optimal value function\n",
        "        policy = np.zeros([environment.observation_space.shape[0], environment.action_space.n])\n",
        "        for state in range(environment.observation_space.shape[0]):\n",
        "                # One step lookahead to find the best action for this state\n",
        "                action_value = one_step_lookahead(environment, state, V, discount_factor)\n",
        "                # Select best action based on the highest state-action value\n",
        "                best_action = np.argmax(action_value)\n",
        "                # Update the policy to perform a better action at a current state\n",
        "                policy[state, best_action] = 1.0\n",
        "        return policy, V"
      ],
      "metadata": {
        "id": "zv4sT3hruO0z"
      },
      "execution_count": null,
      "outputs": []
    },
    {
      "cell_type": "code",
      "source": [
        "def play_episodes(environment, n_episodes, policy):\n",
        "        wins = 0\n",
        "        total_reward = 0\n",
        "        for episode in range(n_episodes):\n",
        "                terminated = False\n",
        "                state = environment.reset()\n",
        "                while not terminated:\n",
        "                        # Select best action to perform in a current state\n",
        "                        action = np.argmax(policy[state])\n",
        "                        # Perform an action an observe how environment acted in response\n",
        "                        next_state, reward, terminated, info = environment.step(action)\n",
        "                        # Summarize total reward\n",
        "                        total_reward += reward\n",
        "                        # Update current state\n",
        "                        state = next_state\n",
        "                        # Calculate number of wins over episodes\n",
        "                        if terminated and reward == 1.0:\n",
        "                                wins += 1\n",
        "        average_reward = total_reward / n_episodes\n",
        "        return wins, total_reward, average_reward\n",
        "\n",
        "# Number of episodes to play\n",
        "n_episodes = 10000\n",
        "# Functions to find best policy\n",
        "solvers = [('Policy Iteration', policy_iteration),\n",
        "           ('Value Iteration', value_iteration)]\n",
        "for iteration_name, iteration_func in solvers:\n",
        "        # Load a Frozen Lake environment\n",
        "        environment = gym.make('CartPole-v1')\n",
        "        # Search for an optimal policy using policy iteration\n",
        "        environment.reset()\n",
        "        policy, V = iteration_func(environment.env)\n",
        "        # Apply best policy to the real environment\n",
        "        wins, total_reward, average_reward = play_episodes(environment, n_episodes, policy)\n",
        "        print(f'{iteration_name} :: number of wins over {n_episodes} episodes = {wins}')\n",
        "        print(f'{iteration_name} :: average reward over {n_episodes} episodes = {average_reward} \\n\\n')"
      ],
      "metadata": {
        "colab": {
          "base_uri": "https://localhost:8080/",
          "height": 504
        },
        "id": "mlKzsdA6uTcG",
        "outputId": "b0173266-b865-4225-eac4-b50d3ea6b763"
      },
      "execution_count": null,
      "outputs": [
        {
          "output_type": "stream",
          "name": "stdout",
          "text": [
            "(array([-0.04725007, -0.3635133 ,  0.03404946,  0.5932206 ], dtype=float32), 1.0, False, {})\n",
            "sp=-0.04389005899429321 ns=-0.16800063848495483, r=0.02821396291255951, t=0.2917745113372803\n"
          ]
        },
        {
          "output_type": "stream",
          "name": "stderr",
          "text": [
            "/usr/local/lib/python3.7/dist-packages/gym/core.py:318: DeprecationWarning: \u001b[33mWARN: Initializing wrapper in old step API which returns one bool instead of two. It is recommended to set `new_step_api=True` to use new step API. This will be the default behaviour in future.\u001b[0m\n",
            "  \"Initializing wrapper in old step API which returns one bool instead of two. It is recommended to set `new_step_api=True` to use new step API. This will be the default behaviour in future.\"\n",
            "/usr/local/lib/python3.7/dist-packages/gym/wrappers/step_api_compatibility.py:40: DeprecationWarning: \u001b[33mWARN: Initializing environment in old step API which returns one bool instead of two. It is recommended to set `new_step_api=True` to use new step API. This will be the default behaviour in future.\u001b[0m\n",
            "  \"Initializing environment in old step API which returns one bool instead of two. It is recommended to set `new_step_api=True` to use new step API. This will be the default behaviour in future.\"\n"
          ]
        },
        {
          "output_type": "error",
          "ename": "IndexError",
          "evalue": "ignored",
          "traceback": [
            "\u001b[0;31m---------------------------------------------------------------------------\u001b[0m",
            "\u001b[0;31mIndexError\u001b[0m                                Traceback (most recent call last)",
            "\u001b[0;32m<ipython-input-42-32ff8b4dfea5>\u001b[0m in \u001b[0;36m<module>\u001b[0;34m\u001b[0m\n\u001b[1;32m     30\u001b[0m         \u001b[0;31m# Search for an optimal policy using policy iteration\u001b[0m\u001b[0;34m\u001b[0m\u001b[0;34m\u001b[0m\u001b[0;34m\u001b[0m\u001b[0m\n\u001b[1;32m     31\u001b[0m         \u001b[0menvironment\u001b[0m\u001b[0;34m.\u001b[0m\u001b[0mreset\u001b[0m\u001b[0;34m(\u001b[0m\u001b[0;34m)\u001b[0m\u001b[0;34m\u001b[0m\u001b[0;34m\u001b[0m\u001b[0m\n\u001b[0;32m---> 32\u001b[0;31m         \u001b[0mpolicy\u001b[0m\u001b[0;34m,\u001b[0m \u001b[0mV\u001b[0m \u001b[0;34m=\u001b[0m \u001b[0miteration_func\u001b[0m\u001b[0;34m(\u001b[0m\u001b[0menvironment\u001b[0m\u001b[0;34m.\u001b[0m\u001b[0menv\u001b[0m\u001b[0;34m)\u001b[0m\u001b[0;34m\u001b[0m\u001b[0;34m\u001b[0m\u001b[0m\n\u001b[0m\u001b[1;32m     33\u001b[0m         \u001b[0;31m# Apply best policy to the real environment\u001b[0m\u001b[0;34m\u001b[0m\u001b[0;34m\u001b[0m\u001b[0;34m\u001b[0m\u001b[0m\n\u001b[1;32m     34\u001b[0m         \u001b[0mwins\u001b[0m\u001b[0;34m,\u001b[0m \u001b[0mtotal_reward\u001b[0m\u001b[0;34m,\u001b[0m \u001b[0maverage_reward\u001b[0m \u001b[0;34m=\u001b[0m \u001b[0mplay_episodes\u001b[0m\u001b[0;34m(\u001b[0m\u001b[0menvironment\u001b[0m\u001b[0;34m,\u001b[0m \u001b[0mn_episodes\u001b[0m\u001b[0;34m,\u001b[0m \u001b[0mpolicy\u001b[0m\u001b[0;34m)\u001b[0m\u001b[0;34m\u001b[0m\u001b[0;34m\u001b[0m\u001b[0m\n",
            "\u001b[0;32m<ipython-input-28-7cca57288869>\u001b[0m in \u001b[0;36mpolicy_iteration\u001b[0;34m(environment, discount_factor, max_iterations)\u001b[0m\n\u001b[1;32m      9\u001b[0m                 \u001b[0mstable_policy\u001b[0m \u001b[0;34m=\u001b[0m \u001b[0;32mTrue\u001b[0m\u001b[0;34m\u001b[0m\u001b[0;34m\u001b[0m\u001b[0m\n\u001b[1;32m     10\u001b[0m                 \u001b[0;31m# Evaluate current policy\u001b[0m\u001b[0;34m\u001b[0m\u001b[0;34m\u001b[0m\u001b[0;34m\u001b[0m\u001b[0m\n\u001b[0;32m---> 11\u001b[0;31m                 \u001b[0mV\u001b[0m \u001b[0;34m=\u001b[0m \u001b[0mpolicy_evaluation\u001b[0m\u001b[0;34m(\u001b[0m\u001b[0mpolicy\u001b[0m\u001b[0;34m,\u001b[0m \u001b[0menvironment\u001b[0m\u001b[0;34m,\u001b[0m \u001b[0mdiscount_factor\u001b[0m\u001b[0;34m=\u001b[0m\u001b[0mdiscount_factor\u001b[0m\u001b[0;34m)\u001b[0m\u001b[0;34m\u001b[0m\u001b[0;34m\u001b[0m\u001b[0m\n\u001b[0m\u001b[1;32m     12\u001b[0m                 \u001b[0;31m# Go through each state and try to improve actions that were taken (policy Improvement)\u001b[0m\u001b[0;34m\u001b[0m\u001b[0;34m\u001b[0m\u001b[0;34m\u001b[0m\u001b[0m\n\u001b[1;32m     13\u001b[0m                 \u001b[0;32mfor\u001b[0m \u001b[0mstate\u001b[0m \u001b[0;32min\u001b[0m \u001b[0mrange\u001b[0m\u001b[0;34m(\u001b[0m\u001b[0menvironment\u001b[0m\u001b[0;34m.\u001b[0m\u001b[0mobservation_space\u001b[0m\u001b[0;34m.\u001b[0m\u001b[0mshape\u001b[0m\u001b[0;34m[\u001b[0m\u001b[0;36m0\u001b[0m\u001b[0;34m]\u001b[0m\u001b[0;34m)\u001b[0m\u001b[0;34m:\u001b[0m\u001b[0;34m\u001b[0m\u001b[0;34m\u001b[0m\u001b[0m\n",
            "\u001b[0;32m<ipython-input-41-f34f6b39d0bd>\u001b[0m in \u001b[0;36mpolicy_evaluation\u001b[0;34m(policy, environment, discount_factor, theta, max_iterations)\u001b[0m\n\u001b[1;32m     19\u001b[0m                                   \u001b[0mprint\u001b[0m\u001b[0;34m(\u001b[0m\u001b[0menvironment\u001b[0m\u001b[0;34m.\u001b[0m\u001b[0mstep\u001b[0m\u001b[0;34m(\u001b[0m\u001b[0maction\u001b[0m\u001b[0;34m)\u001b[0m\u001b[0;34m)\u001b[0m\u001b[0;34m\u001b[0m\u001b[0;34m\u001b[0m\u001b[0m\n\u001b[1;32m     20\u001b[0m                                   \u001b[0mprint\u001b[0m\u001b[0;34m(\u001b[0m\u001b[0;34mf\"sp={state_probability} ns={next_state}, r={reward}, t={terminated}\"\u001b[0m\u001b[0;34m)\u001b[0m\u001b[0;34m\u001b[0m\u001b[0;34m\u001b[0m\u001b[0m\n\u001b[0;32m---> 21\u001b[0;31m                                   \u001b[0mv\u001b[0m \u001b[0;34m+=\u001b[0m \u001b[0maction_probability\u001b[0m \u001b[0;34m*\u001b[0m \u001b[0mstate_probability\u001b[0m \u001b[0;34m*\u001b[0m \u001b[0;34m(\u001b[0m\u001b[0mreward\u001b[0m \u001b[0;34m+\u001b[0m \u001b[0mdiscount_factor\u001b[0m \u001b[0;34m*\u001b[0m \u001b[0mV\u001b[0m\u001b[0;34m[\u001b[0m\u001b[0mnext_state\u001b[0m\u001b[0;34m]\u001b[0m\u001b[0;34m)\u001b[0m\u001b[0;34m\u001b[0m\u001b[0;34m\u001b[0m\u001b[0m\n\u001b[0m\u001b[1;32m     22\u001b[0m \u001b[0;34m\u001b[0m\u001b[0m\n\u001b[1;32m     23\u001b[0m                        \u001b[0;31m# Calculate the absolute change of value function\u001b[0m\u001b[0;34m\u001b[0m\u001b[0;34m\u001b[0m\u001b[0;34m\u001b[0m\u001b[0m\n",
            "\u001b[0;31mIndexError\u001b[0m: only integers, slices (`:`), ellipsis (`...`), numpy.newaxis (`None`) and integer or boolean arrays are valid indices"
          ]
        }
      ]
    },
    {
      "cell_type": "code",
      "source": [
        "env = gym.make('CartPole-v1')\n",
        "env.env"
      ],
      "metadata": {
        "colab": {
          "base_uri": "https://localhost:8080/"
        },
        "id": "5P_VJ6J-uYhV",
        "outputId": "0be43c34-34a7-4f43-af73-3e5d7bce53f9"
      },
      "execution_count": null,
      "outputs": [
        {
          "output_type": "stream",
          "name": "stderr",
          "text": [
            "/usr/local/lib/python3.7/dist-packages/gym/core.py:318: DeprecationWarning: \u001b[33mWARN: Initializing wrapper in old step API which returns one bool instead of two. It is recommended to set `new_step_api=True` to use new step API. This will be the default behaviour in future.\u001b[0m\n",
            "  \"Initializing wrapper in old step API which returns one bool instead of two. It is recommended to set `new_step_api=True` to use new step API. This will be the default behaviour in future.\"\n",
            "/usr/local/lib/python3.7/dist-packages/gym/wrappers/step_api_compatibility.py:40: DeprecationWarning: \u001b[33mWARN: Initializing environment in old step API which returns one bool instead of two. It is recommended to set `new_step_api=True` to use new step API. This will be the default behaviour in future.\u001b[0m\n",
            "  \"Initializing environment in old step API which returns one bool instead of two. It is recommended to set `new_step_api=True` to use new step API. This will be the default behaviour in future.\"\n"
          ]
        },
        {
          "output_type": "execute_result",
          "data": {
            "text/plain": [
              "<OrderEnforcing<StepAPICompatibility<PassiveEnvChecker<CartPoleEnv<CartPole-v1>>>>>"
            ]
          },
          "metadata": {},
          "execution_count": 9
        }
      ]
    }
  ]
}